{
 "cells": [
  {
   "cell_type": "code",
   "execution_count": 1,
   "metadata": {},
   "outputs": [],
   "source": [
    "import pandas as pd\n",
    "import numpy as np\n",
    "data = pd.read_csv(r\"C:\\Users\\paula\\OneDrive\\Documents\\Financial Modelling Package\\raw_data.csv\", sep = \";\")"
   ]
  },
  {
   "cell_type": "markdown",
   "metadata": {},
   "source": [
    "The corrected SVI model fit with the maturity"
   ]
  },
  {
   "cell_type": "code",
   "execution_count": 2,
   "metadata": {},
   "outputs": [],
   "source": [
    "import numpy as np\n",
    "from scipy.optimize import minimize\n",
    "\n",
    "class SVI_model:\n",
    "    def __init__(self, initial_params=None):\n",
    "        if initial_params is None:\n",
    "            self.params = {\"a\": 0.04, \"b\": 0.1, \"rho\": -0.3, \"m\": 0.0, \"sigma\": 0.2}\n",
    "        else:\n",
    "            self.params = initial_params\n",
    "\n",
    "    def svi_implied_vol(self, k, T, a, b, rho, m, sigma):\n",
    "        # Compute total variance w(k):\n",
    "        w_k = a + b * (rho * (k - m) + np.sqrt((k - m)**2 + sigma**2))\n",
    "        # Return implied volatility:\n",
    "        return np.sqrt(w_k / T)\n",
    "\n",
    "    def fit(self, log_moneyness, maturity, market_ivol):\n",
    "        \"\"\"\n",
    "        log_moneyness, market_ivol: numpy arrays of same length\n",
    "        maturity: float (single T) or array of T if you handle multiple\n",
    "        \"\"\"\n",
    "        def objective(pars):\n",
    "            a, b, rho, m, sigma = pars\n",
    "            predicted_vols = self.svi_implied_vol(log_moneyness, maturity, a, b, rho, m, sigma)\n",
    "            return np.sum((predicted_vols - market_ivol) ** 2)\n",
    "\n",
    "        initial_guess = list(self.params.values())\n",
    "        bounds = [(0, None), (0, None), (-1, 1), (None, None), (1e-3, None)]\n",
    "        result = minimize(objective, initial_guess, bounds=bounds)\n",
    "        if result.success:\n",
    "            self.params = dict(zip([\"a\", \"b\", \"rho\", \"m\", \"sigma\"], result.x))\n",
    "        else:\n",
    "            raise ValueError(\"SVI calibration failed.\")\n",
    "\n",
    "    def predict_ivol(self, k, T):\n",
    "        a, b, rho, m, sigma = self.params.values()\n",
    "        return self.svi_implied_vol(k, T, a, b, rho, m, sigma)\n"
   ]
  },
  {
   "cell_type": "markdown",
   "metadata": {},
   "source": [
    "now let's fit the thing"
   ]
  },
  {
   "cell_type": "code",
   "execution_count": 1,
   "metadata": {},
   "outputs": [
    {
     "ename": "",
     "evalue": "",
     "output_type": "error",
     "traceback": [
      "\u001b[1;31mThe Kernel crashed while executing code in the current cell or a previous cell. \n",
      "\u001b[1;31mPlease review the code in the cell(s) to identify a possible cause of the failure. \n",
      "\u001b[1;31mClick <a href='https://aka.ms/vscodeJupyterKernelCrash'>here</a> for more info. \n",
      "\u001b[1;31mView Jupyter <a href='command:jupyter.viewOutput'>log</a> for further details."
     ]
    }
   ],
   "source": [
    "from financial_modelling.data_pre_processing.IVPreprocessor import IVPreprocessor\n",
    "\n",
    "filtered_data = IVPreprocessor(data).preprocess((0.90, 1.10),(0.90, 1.10))\n",
    "\n",
    "model = SVI_model()\n",
    "\n",
    "for i, value in enumerate(filtered_data[\"Residual_Maturity\"].unique()):\n",
    "    # 3) Fit\n",
    "    model.fit(\n",
    "        log_moneyness=filtered_data[\"Log_Moneyness\"].values,\n",
    "        maturity= value,\n",
    "        market_ivol=filtered_data[\"Implied_Volatility\"].astype(float).values\n",
    "    )\n",
    "\n",
    "    # 4) Check calibrated parameters\n",
    "    print(\"Calibrated params:\", model.params)\n",
    "\n",
    "    # 5) Predict implied vols on the same points (just for demonstration)\n",
    "    pred_iv = model.predict_ivol(df[\"k\"].values, df[\"T\"].values)\n",
    "    print(\"Predicted implied vols:\", pred_iv)"
   ]
  }
 ],
 "metadata": {
  "kernelspec": {
   "display_name": ".venv",
   "language": "python",
   "name": "python3"
  },
  "language_info": {
   "codemirror_mode": {
    "name": "ipython",
    "version": 3
   },
   "file_extension": ".py",
   "mimetype": "text/x-python",
   "name": "python",
   "nbconvert_exporter": "python",
   "pygments_lexer": "ipython3",
   "version": "3.12.8"
  }
 },
 "nbformat": 4,
 "nbformat_minor": 2
}
