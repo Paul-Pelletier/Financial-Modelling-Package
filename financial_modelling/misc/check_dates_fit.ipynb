{
 "cells": [
  {
   "cell_type": "code",
   "execution_count": 22,
   "metadata": {},
   "outputs": [],
   "source": [
    "#Package imports\n",
    "import logging\n",
    "import os\n",
    "import pytz\n",
    "import numpy as np\n",
    "import matplotlib.pyplot as plt\n",
    "from datetime import datetime\n",
    "from financial_modelling.modelling.SVIModel import SVIModel as svi\n",
    "from financial_modelling.data_acquisition.database_fetcher import DatabaseFetcher as dbf\n",
    "from financial_modelling.data_pre_processing.IVPreprocessor import IVPreprocessor as ivp\n",
    "from financial_modelling.data_acquisition.list_of_files_fetcher import ListOfFilesFetcher as loff\n",
    "import pandas as pd\n",
    "index_of_quote_date = 10\n",
    "index_of_expiration_date = 21"
   ]
  },
  {
   "cell_type": "markdown",
   "metadata": {},
   "source": [
    "We need to get first the fitted dates from the folder where the fitted data is present"
   ]
  },
  {
   "cell_type": "code",
   "execution_count": 23,
   "metadata": {},
   "outputs": [],
   "source": [
    "#List of fitted SVI parameters\n",
    "folder = r\"E:\\OutputParamsFiles\\OutputFiles\"\n",
    "loff = loff()\n",
    "loff.fetch(folder)\n",
    "loff.get_unixtimestamp()\n",
    "list_of_fitted_dates = loff.list_of_dates\n",
    "date = list_of_fitted_dates[index_of_quote_date]"
   ]
  },
  {
   "cell_type": "code",
   "execution_count": 24,
   "metadata": {},
   "outputs": [],
   "source": [
    "#Function get_unixtimestamp_readable for logging purposes\n",
    "def get_unixtimestamp_readable(unixtimestamp):\n",
    "    logging.info(datetime.fromtimestamp(unixtimestamp, pytz.timezone(\"US/Eastern\")).strftime('%d-%m-%Y %H:%M'))"
   ]
  },
  {
   "cell_type": "markdown",
   "metadata": {},
   "source": [
    "Need to implement a function that give the corresponding data in the database.\n",
    "\n",
    "I. The database connection string"
   ]
  },
  {
   "cell_type": "code",
   "execution_count": 25,
   "metadata": {},
   "outputs": [
    {
     "name": "stderr",
     "output_type": "stream",
     "text": [
      "INFO:root:DatabaseFetcher initialized with DRIVER={SQL Server};SERVER=DESKTOP-DK79R4I;DATABASE=DataMining;Trusted_Connection=yes;\n",
      "c:\\users\\paula\\onedrive\\documents\\financial modelling package\\financial_modelling\\data_acquisition\\database_fetcher.py:79: UserWarning: pandas only supports SQLAlchemy connectable (engine/connection) or database string URI or sqlite3 DBAPI2 connection. Other DBAPI2 objects are not tested. Please consider using SQLAlchemy.\n",
      "  df = pd.read_sql(query, self.conn)\n"
     ]
    },
    {
     "name": "stdout",
     "output_type": "stream",
     "text": [
      "pyodbc connection established in 0.00 ms\n",
      "Query executed in 0.2466 seconds\n",
      "pyodbc connection closed.\n"
     ]
    }
   ],
   "source": [
    "#Connection configuration\n",
    "DB_CONFIG = {\n",
    "    'server': 'DESKTOP-DK79R4I',  # Your server name\n",
    "    'database': 'DataMining',     # Your database name\n",
    "}\n",
    "\n",
    "#Define pyodbc-compatible connection string\n",
    "connection_string = (\n",
    "        f\"DRIVER={{SQL Server}};\"\n",
    "        f\"SERVER={DB_CONFIG['server']};\"\n",
    "        f\"DATABASE={DB_CONFIG['database']};\"\n",
    "        f\"Trusted_Connection=yes;\"\n",
    ")\n",
    "\n",
    "#Define the query string\n",
    "query = f\"\"\"\n",
    "        SELECT TOP(6302) *\n",
    "        FROM [DataMining].[dbo].[OptionData]\n",
    "        WHERE [QUOTE_UNIXTIME] = '{date}'\n",
    "        \"\"\"\n",
    "database_fetcher = dbf(connection_string)\n",
    "raw_data = database_fetcher.fetch(query)\n",
    "database_fetcher.close()"
   ]
  },
  {
   "cell_type": "markdown",
   "metadata": {},
   "source": [
    "Need to extract the needed data from raw_data"
   ]
  },
  {
   "cell_type": "code",
   "execution_count": 26,
   "metadata": {},
   "outputs": [],
   "source": [
    "#Preprocessor preprocessing rawa data\n",
    "processed_data = ivp(raw_data).preprocess()\n",
    "expiry = processed_data[\"EXPIRE_UNIX\"].unique()[index_of_expiration_date]\n",
    "processed_data = processed_data[processed_data[\"EXPIRE_UNIX\"] == expiry]\n",
    "log_moneyness = np.array(processed_data[\"Log_Moneyness\"])"
   ]
  },
  {
   "cell_type": "markdown",
   "metadata": {},
   "source": [
    "Now we get the fitted model estimated on the raw requested data from the the database"
   ]
  },
  {
   "cell_type": "code",
   "execution_count": 27,
   "metadata": {},
   "outputs": [],
   "source": [
    "#Get the fitted SVI parameters\n",
    "def get_the_fitted_params_file(date, folder):\n",
    "    file_path = os.path.join(folder, f\"output_{date}.csv\")\n",
    "    fitted_params_file = pd.read_csv(file_path, sep = \",\")\n",
    "    return fitted_params_file\n",
    "#Get the fitted SVI parameters & Maturity\n",
    "def get_the_fitted_params(dataframe, expiry):\n",
    "    fitted_params_file = get_the_fitted_params_file(date, folder)\n",
    "    expriry_specific_params = fitted_params_file[fitted_params_file[\"EXPIRE_DATE\"] == expiry]\n",
    "    maturity = np.array(expriry_specific_params['Maturity'])\n",
    "    params = {\"a\":expriry_specific_params[\"a\"],\n",
    "            \"b\":expriry_specific_params[\"b\"],\n",
    "            \"rho\":expriry_specific_params[\"rho\"],\n",
    "            \"m\":expriry_specific_params[\"m\"],\n",
    "            \"sigma\":expriry_specific_params[\"sigma\"]}\n",
    "    for i in params.keys():\n",
    "        params[i] = np.array(params[i])\n",
    "    return params, maturity\n",
    "\n",
    "params, maturity = get_the_fitted_params(processed_data, expiry)\n",
    "svi_values = (1/np.sqrt(maturity))*np.sqrt(svi().svi(log_moneyness, params[\"a\"], params[\"b\"], params[\"rho\"], params[\"m\"], params[\"sigma\"]))"
   ]
  },
  {
   "cell_type": "markdown",
   "metadata": {},
   "source": [
    "Plot the fitted model data against the raw data IV"
   ]
  },
  {
   "cell_type": "code",
   "execution_count": 28,
   "metadata": {},
   "outputs": [
    {
     "data": {
      "image/png": "[encoded data removed]",
      "text/plain": [
       "<Figure size 640x480 with 1 Axes>"
      ]
     },
     "metadata": {},
     "output_type": "display_data"
    }
   ],
   "source": [
    "plt.scatter(log_moneyness, svi_values, color = \"blue\", label = \"Fitted IV Model\")\n",
    "plt.scatter(log_moneyness, processed_data[\"Implied_Volatility\"], color = \"red\", label = \"Market IV\")\n",
    "plt.show()"
   ]
  }
 ],
 "metadata": {
  "kernelspec": {
   "display_name": ".venv",
   "language": "python",
   "name": "python3"
  },
  "language_info": {
   "codemirror_mode": {
    "name": "ipython",
    "version": 3
   },
   "file_extension": ".py",
   "mimetype": "text/x-python",
   "name": "python",
   "nbconvert_exporter": "python",
   "pygments_lexer": "ipython3",
   "version": "3.12.8"
  }
 },
 "nbformat": 4,
 "nbformat_minor": 2
}
